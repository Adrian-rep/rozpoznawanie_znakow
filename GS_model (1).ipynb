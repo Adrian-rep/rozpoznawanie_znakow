{
  "cells": [
    {
      "cell_type": "code",
      "execution_count": null,
      "id": "380f9976",
      "metadata": {
        "id": "380f9976"
      },
      "outputs": [],
      "source": [
        "import tensorflow as tf\n",
        "from keras.models import Sequential, save_model\n",
        "from keras.layers import Conv2D, MaxPool2D, MaxPooling2D, Dense, Dropout, Activation, Flatten\n",
        "import cv2 \n",
        "import matplotlib.pyplot as plt\n",
        "import numpy as np\n",
        "import pandas as pd\n",
        "import os\n",
        "from sklearn.model_selection import train_test_split\n",
        "from keras.utils.np_utils import to_categorical\n",
        "from google.colab import drive\n",
        "from keras import regularizers\n",
        "from tensorflow.keras.callbacks import EarlyStopping\n",
        "# from keras.preprocessing.image import ImageDataGenerator\n",
        "# from tensorflow.keras.utils import array_to_img, img_to_array"
      ]
    },
    {
      "cell_type": "code",
      "source": [
        "drive.mount('/content/drive')"
      ],
      "metadata": {
        "colab": {
          "base_uri": "https://localhost:8080/"
        },
        "id": "v03tQUuRbLoa",
        "outputId": "f2d01ece-2082-4440-b08a-031a5dd4661c"
      },
      "id": "v03tQUuRbLoa",
      "execution_count": null,
      "outputs": [
        {
          "output_type": "stream",
          "name": "stdout",
          "text": [
            "Mounted at /content/drive\n"
          ]
        }
      ]
    },
    {
      "cell_type": "markdown",
      "id": "599bc5e2",
      "metadata": {
        "id": "599bc5e2"
      },
      "source": [
        "## Pobranie danych"
      ]
    },
    {
      "cell_type": "code",
      "execution_count": null,
      "id": "9e19e6d0",
      "metadata": {
        "id": "9e19e6d0"
      },
      "outputs": [],
      "source": [
        "data_path = '/content/drive/MyDrive/german_sign_classification/data/'\n",
        "label_path = '/content/drive/MyDrive/german_sign_classification/labels.csv'"
      ]
    },
    {
      "cell_type": "code",
      "execution_count": null,
      "id": "1f4cc5a7",
      "metadata": {
        "id": "1f4cc5a7"
      },
      "outputs": [],
      "source": [
        "class_list = os.listdir(data_path)\n",
        "len_class_list = len(class_list)"
      ]
    },
    {
      "cell_type": "code",
      "execution_count": null,
      "id": "897b13b2",
      "metadata": {
        "id": "897b13b2"
      },
      "outputs": [],
      "source": [
        "def colect_data(data_path):\n",
        "    images = []\n",
        "    classes = []\n",
        "    class_list = os.listdir(data_path)\n",
        "\n",
        "    print(f\"Total Classes Detected: {len_class_list}\")\n",
        "    print(\"Importing Classes.....\")\n",
        "\n",
        "    for class_num in range(len_class_list):\n",
        "        pic_list = os.listdir(data_path  + f'/class_ ({class_num})')\n",
        "        for img in pic_list:\n",
        "            cur_img = cv2.imread(data_path + f'/class_ ({class_num})' + \"/\" + img)\n",
        "            if cur_img is None:\n",
        "                print('img is none')\n",
        "            cur_img = cv2.resize(cur_img, (28, 28))\n",
        "            images.append(cur_img)\n",
        "            classes.append(class_num)\n",
        "        print(class_num, end=\" \")\n",
        "    print(\" \")\n",
        "    images = np.array(images)\n",
        "    classes = np.array(classes)\n",
        "    return images, classes"
      ]
    },
    {
      "cell_type": "code",
      "execution_count": null,
      "id": "ee784229",
      "metadata": {
        "colab": {
          "base_uri": "https://localhost:8080/"
        },
        "id": "ee784229",
        "outputId": "7bedc5f2-38ba-4601-94fb-d4340fc516b4"
      },
      "outputs": [
        {
          "output_type": "stream",
          "name": "stdout",
          "text": [
            "Total Classes Detected: 43\n",
            "Importing Classes.....\n",
            "0 1 2 3 4 5 6 7 8 9 10 11 12 13 14 15 16 17 18 19 20 21 22 23 24 25 26 27 28 29 30 31 32 33 34 35 36 37 38 39 40 41 42  \n"
          ]
        }
      ],
      "source": [
        "images, classes = colect_data(data_path)"
      ]
    },
    {
      "cell_type": "code",
      "execution_count": null,
      "id": "5eba1a68",
      "metadata": {
        "colab": {
          "base_uri": "https://localhost:8080/"
        },
        "id": "5eba1a68",
        "outputId": "490d155f-0b42-440a-8d4d-07bf714fcfbd"
      },
      "outputs": [
        {
          "output_type": "stream",
          "name": "stdout",
          "text": [
            "(26641, 28, 28, 3)\n",
            "(26641,)\n"
          ]
        }
      ],
      "source": [
        "print(images.shape)\n",
        "print(classes.shape)"
      ]
    },
    {
      "cell_type": "code",
      "execution_count": null,
      "id": "36b180ef",
      "metadata": {
        "colab": {
          "base_uri": "https://localhost:8080/",
          "height": 283
        },
        "id": "36b180ef",
        "outputId": "1e4e1506-0294-4651-b780-ead19e91db01"
      },
      "outputs": [
        {
          "output_type": "execute_result",
          "data": {
            "text/plain": [
              "<matplotlib.image.AxesImage at 0x7f3cd35b0250>"
            ]
          },
          "metadata": {},
          "execution_count": 8
        },
        {
          "output_type": "display_data",
          "data": {
            "text/plain": [
              "<Figure size 432x288 with 1 Axes>"
            ],
            "image/png": "[encoded data removed]"
          },
          "metadata": {
            "needs_background": "light"
          }
        }
      ],
      "source": [
        "plt.imshow(images[2])"
      ]
    },
    {
      "cell_type": "markdown",
      "id": "7c3ad90b",
      "metadata": {
        "id": "7c3ad90b"
      },
      "source": [
        "## Podział danych na zbiory"
      ]
    },
    {
      "cell_type": "code",
      "execution_count": null,
      "id": "1497806b",
      "metadata": {
        "id": "1497806b"
      },
      "outputs": [],
      "source": [
        "X_train, X_test, y_train, y_test = train_test_split(images, classes, test_size=0.2)\n",
        "X_train, X_validation, y_train, y_validation = train_test_split(X_train, y_train, test_size=0.2)"
      ]
    },
    {
      "cell_type": "code",
      "execution_count": null,
      "id": "9d470bfb",
      "metadata": {
        "colab": {
          "base_uri": "https://localhost:8080/"
        },
        "id": "9d470bfb",
        "outputId": "b961d5a3-358a-48ef-8970-235df098c83f"
      },
      "outputs": [
        {
          "output_type": "stream",
          "name": "stdout",
          "text": [
            "Shapes\n",
            "===========================\n",
            "X_train: (17049, 28, 28, 3)\n",
            "y_train: (17049,)\n",
            " \n",
            "X_validation: (4263, 28, 28, 3)\n",
            "y_validation: (4263,)\n",
            " \n",
            "X_test: (5329, 28, 28, 3)\n",
            "y_test: (5329,)\n",
            "===========================\n"
          ]
        }
      ],
      "source": [
        "print('Shapes')\n",
        "print('===========================')\n",
        "print(f\"X_train: {X_train.shape}\")\n",
        "print(f\"y_train: {y_train.shape}\")\n",
        "print(\" \")\n",
        "print(f\"X_validation: {X_validation.shape}\")\n",
        "print(f\"y_validation: {y_validation.shape}\")\n",
        "print(\" \")\n",
        "print(f\"X_test: {X_test.shape}\")\n",
        "print(f\"y_test: {y_test.shape}\")\n",
        "print('===========================')"
      ]
    },
    {
      "cell_type": "markdown",
      "id": "995d7d21",
      "metadata": {
        "id": "995d7d21"
      },
      "source": [
        "### Klasy "
      ]
    },
    {
      "cell_type": "code",
      "execution_count": null,
      "id": "8b336fa3",
      "metadata": {
        "scrolled": true,
        "colab": {
          "base_uri": "https://localhost:8080/"
        },
        "id": "8b336fa3",
        "outputId": "0ed989b4-2bca-446f-aaf5-0eca06c88675"
      },
      "outputs": [
        {
          "output_type": "stream",
          "name": "stdout",
          "text": [
            "<class 'pandas.core.frame.DataFrame'>\n",
            "RangeIndex: 43 entries, 0 to 42\n",
            "Data columns (total 2 columns):\n",
            " #   Column   Non-Null Count  Dtype \n",
            "---  ------   --------------  ----- \n",
            " 0   ClassId  43 non-null     int64 \n",
            " 1   Name     43 non-null     object\n",
            "dtypes: int64(1), object(1)\n",
            "memory usage: 816.0+ bytes\n"
          ]
        }
      ],
      "source": [
        "labels = pd.read_csv(label_path)\n",
        "labels.info()"
      ]
    },
    {
      "cell_type": "code",
      "execution_count": null,
      "id": "3d50c0b8",
      "metadata": {
        "colab": {
          "base_uri": "https://localhost:8080/",
          "height": 175
        },
        "id": "3d50c0b8",
        "outputId": "9d73f45b-2845-420d-f357-fa73c7332c50"
      },
      "outputs": [
        {
          "output_type": "execute_result",
          "data": {
            "text/plain": [
              "    ClassId                  Name\n",
              "12       12         Priority road\n",
              "37       37   Go straight or left\n",
              "34       34       Turn left ahead\n",
              "4         4  Speed limit (70km/h)"
            ],
            "text/html": [
              "\n",
              "  <div id=\"df-fa773a97-ba24-4bec-b336-72bb6a052eaf\">\n",
              "    <div class=\"colab-df-container\">\n",
              "      <div>\n",
              "<style scoped>\n",
              "    .dataframe tbody tr th:only-of-type {\n",
              "        vertical-align: middle;\n",
              "    }\n",
              "\n",
              "    .dataframe tbody tr th {\n",
              "        vertical-align: top;\n",
              "    }\n",
              "\n",
              "    .dataframe thead th {\n",
              "        text-align: right;\n",
              "    }\n",
              "</style>\n",
              "<table border=\"1\" class=\"dataframe\">\n",
              "  <thead>\n",
              "    <tr style=\"text-align: right;\">\n",
              "      <th></th>\n",
              "      <th>ClassId</th>\n",
              "      <th>Name</th>\n",
              "    </tr>\n",
              "  </thead>\n",
              "  <tbody>\n",
              "    <tr>\n",
              "      <th>12</th>\n",
              "      <td>12</td>\n",
              "      <td>Priority road</td>\n",
              "    </tr>\n",
              "    <tr>\n",
              "      <th>37</th>\n",
              "      <td>37</td>\n",
              "      <td>Go straight or left</td>\n",
              "    </tr>\n",
              "    <tr>\n",
              "      <th>34</th>\n",
              "      <td>34</td>\n",
              "      <td>Turn left ahead</td>\n",
              "    </tr>\n",
              "    <tr>\n",
              "      <th>4</th>\n",
              "      <td>4</td>\n",
              "      <td>Speed limit (70km/h)</td>\n",
              "    </tr>\n",
              "  </tbody>\n",
              "</table>\n",
              "</div>\n",
              "      <button class=\"colab-df-convert\" onclick=\"convertToInteractive('df-fa773a97-ba24-4bec-b336-72bb6a052eaf')\"\n",
              "              title=\"Convert this dataframe to an interactive table.\"\n",
              "              style=\"display:none;\">\n",
              "        \n",
              "  <svg xmlns=\"http://www.w3.org/2000/svg\" height=\"24px\"viewBox=\"0 0 24 24\"\n",
              "       width=\"24px\">\n",
              "    <path d=\"M0 0h24v24H0V0z\" fill=\"none\"/>\n",
              "    <path d=\"M18.56 5.44l.94 2.06.94-2.06 2.06-.94-2.06-.94-.94-2.06-.94 2.06-2.06.94zm-11 1L8.5 8.5l.94-2.06 2.06-.94-2.06-.94L8.5 2.5l-.94 2.06-2.06.94zm10 10l.94 2.06.94-2.06 2.06-.94-2.06-.94-.94-2.06-.94 2.06-2.06.94z\"/><path d=\"M17.41 7.96l-1.37-1.37c-.4-.4-.92-.59-1.43-.59-.52 0-1.04.2-1.43.59L10.3 9.45l-7.72 7.72c-.78.78-.78 2.05 0 2.83L4 21.41c.39.39.9.59 1.41.59.51 0 1.02-.2 1.41-.59l7.78-7.78 2.81-2.81c.8-.78.8-2.07 0-2.86zM5.41 20L4 18.59l7.72-7.72 1.47 1.35L5.41 20z\"/>\n",
              "  </svg>\n",
              "      </button>\n",
              "      \n",
              "  <style>\n",
              "    .colab-df-container {\n",
              "      display:flex;\n",
              "      flex-wrap:wrap;\n",
              "      gap: 12px;\n",
              "    }\n",
              "\n",
              "    .colab-df-convert {\n",
              "      background-color: #E8F0FE;\n",
              "      border: none;\n",
              "      border-radius: 50%;\n",
              "      cursor: pointer;\n",
              "      display: none;\n",
              "      fill: #1967D2;\n",
              "      height: 32px;\n",
              "      padding: 0 0 0 0;\n",
              "      width: 32px;\n",
              "    }\n",
              "\n",
              "    .colab-df-convert:hover {\n",
              "      background-color: #E2EBFA;\n",
              "      box-shadow: 0px 1px 2px rgba(60, 64, 67, 0.3), 0px 1px 3px 1px rgba(60, 64, 67, 0.15);\n",
              "      fill: #174EA6;\n",
              "    }\n",
              "\n",
              "    [theme=dark] .colab-df-convert {\n",
              "      background-color: #3B4455;\n",
              "      fill: #D2E3FC;\n",
              "    }\n",
              "\n",
              "    [theme=dark] .colab-df-convert:hover {\n",
              "      background-color: #434B5C;\n",
              "      box-shadow: 0px 1px 3px 1px rgba(0, 0, 0, 0.15);\n",
              "      filter: drop-shadow(0px 1px 2px rgba(0, 0, 0, 0.3));\n",
              "      fill: #FFFFFF;\n",
              "    }\n",
              "  </style>\n",
              "\n",
              "      <script>\n",
              "        const buttonEl =\n",
              "          document.querySelector('#df-fa773a97-ba24-4bec-b336-72bb6a052eaf button.colab-df-convert');\n",
              "        buttonEl.style.display =\n",
              "          google.colab.kernel.accessAllowed ? 'block' : 'none';\n",
              "\n",
              "        async function convertToInteractive(key) {\n",
              "          const element = document.querySelector('#df-fa773a97-ba24-4bec-b336-72bb6a052eaf');\n",
              "          const dataTable =\n",
              "            await google.colab.kernel.invokeFunction('convertToInteractive',\n",
              "                                                     [key], {});\n",
              "          if (!dataTable) return;\n",
              "\n",
              "          const docLinkHtml = 'Like what you see? Visit the ' +\n",
              "            '<a target=\"_blank\" href=https://colab.research.google.com/notebooks/data_table.ipynb>data table notebook</a>'\n",
              "            + ' to learn more about interactive tables.';\n",
              "          element.innerHTML = '';\n",
              "          dataTable['output_type'] = 'display_data';\n",
              "          await google.colab.output.renderOutput(dataTable, element);\n",
              "          const docLink = document.createElement('div');\n",
              "          docLink.innerHTML = docLinkHtml;\n",
              "          element.appendChild(docLink);\n",
              "        }\n",
              "      </script>\n",
              "    </div>\n",
              "  </div>\n",
              "  "
            ]
          },
          "metadata": {},
          "execution_count": 37
        }
      ],
      "source": [
        "labels.sample(4)"
      ]
    },
    {
      "cell_type": "markdown",
      "id": "8fac8a7b",
      "metadata": {
        "id": "8fac8a7b"
      },
      "source": [
        "## Rozkład poszczególnych klas "
      ]
    },
    {
      "cell_type": "code",
      "execution_count": null,
      "id": "2039a662",
      "metadata": {
        "id": "2039a662"
      },
      "outputs": [],
      "source": [
        "def show_distribution(labels, X_train, y_train):\n",
        "    class_list = os.listdir(data_path)\n",
        "    num_of_samples = []\n",
        "    for idx, _ in labels.iterrows():\n",
        "        x_selected = X_train[np.where(y_train == idx)]\n",
        "        num_of_samples.append(len(x_selected))\n",
        "        \n",
        "    plt.figure(figsize=(12, 4))\n",
        "    plt.bar(range(0, len(class_list)), num_of_samples)\n",
        "    plt.title(\"Distribution of the training dataset\")\n",
        "    plt.xlabel(\"Class number\")\n",
        "    plt.ylabel(\"Number of images\")\n",
        "    plt.grid()\n",
        "    plt.show()"
      ]
    },
    {
      "cell_type": "code",
      "execution_count": null,
      "id": "7002fe8d",
      "metadata": {
        "colab": {
          "base_uri": "https://localhost:8080/",
          "height": 295
        },
        "id": "7002fe8d",
        "outputId": "61cb96ae-60d6-40f0-8d3a-f7b7a007b715"
      },
      "outputs": [
        {
          "output_type": "display_data",
          "data": {
            "text/plain": [
              "<Figure size 864x288 with 1 Axes>"
            ],
            "image/png": "[encoded data removed]"
          },
          "metadata": {
            "needs_background": "light"
          }
        }
      ],
      "source": [
        "show_distribution(labels, X_train, y_train)"
      ]
    },
    {
      "cell_type": "code",
      "execution_count": null,
      "id": "434bbe36",
      "metadata": {
        "id": "434bbe36"
      },
      "outputs": [],
      "source": [
        "# Po dodaniu obraów za pomocą ImageDataGenerator, model działał gorzej \n",
        "# Sposób wykonania na końcu notatnika "
      ]
    },
    {
      "cell_type": "markdown",
      "id": "0e7fe5fd",
      "metadata": {
        "id": "0e7fe5fd"
      },
      "source": [
        "### Preprocessing danych"
      ]
    },
    {
      "cell_type": "code",
      "execution_count": null,
      "id": "6f3fade8",
      "metadata": {
        "id": "6f3fade8"
      },
      "outputs": [],
      "source": [
        "def preprocessing(img):\n",
        "    img = cv2.cvtColor(img, cv2.COLOR_BGR2GRAY)  \n",
        "    img = cv2.equalizeHist(img) # It is a method that improves the contrast in an image  \n",
        "    img = img / 255\n",
        "    return img"
      ]
    },
    {
      "cell_type": "code",
      "execution_count": null,
      "id": "c19aaf6c",
      "metadata": {
        "id": "c19aaf6c"
      },
      "outputs": [],
      "source": [
        "X_train = np.array(list(map(preprocessing, X_train))) \n",
        "X_validation = np.array(list(map(preprocessing, X_validation)))\n",
        "X_test = np.array(list(map(preprocessing, X_test)))"
      ]
    },
    {
      "cell_type": "code",
      "source": [
        "plt.imshow(X_train[0])"
      ],
      "metadata": {
        "colab": {
          "base_uri": "https://localhost:8080/",
          "height": 283
        },
        "id": "KEXFRsUSjnpd",
        "outputId": "802ef7bf-395e-4ced-a689-998397c5fd93"
      },
      "id": "KEXFRsUSjnpd",
      "execution_count": null,
      "outputs": [
        {
          "output_type": "execute_result",
          "data": {
            "text/plain": [
              "<matplotlib.image.AxesImage at 0x7f3c546f0850>"
            ]
          },
          "metadata": {},
          "execution_count": 83
        },
        {
          "output_type": "display_data",
          "data": {
            "text/plain": [
              "<Figure size 432x288 with 1 Axes>"
            ],
            "image/png": "[encoded data removed]"
          },
          "metadata": {
            "needs_background": "light"
          }
        }
      ]
    },
    {
      "cell_type": "markdown",
      "id": "93888c42",
      "metadata": {
        "id": "93888c42"
      },
      "source": [
        "### Dodanie kolejnego wymiaru "
      ]
    },
    {
      "cell_type": "code",
      "execution_count": null,
      "id": "539f412e",
      "metadata": {
        "id": "539f412e"
      },
      "outputs": [],
      "source": [
        "X_train = X_train.reshape(X_train.shape[0], X_train.shape[1], X_train.shape[2], 1)\n",
        "X_validation = X_validation.reshape(X_validation.shape[0], X_validation.shape[1], X_validation.shape[2], 1)\n",
        "X_test = X_test.reshape(X_test.shape[0], X_test.shape[1], X_test.shape[2], 1)"
      ]
    },
    {
      "cell_type": "code",
      "execution_count": null,
      "id": "bdcca3fe",
      "metadata": {
        "id": "bdcca3fe"
      },
      "outputs": [],
      "source": [
        "y_train = to_categorical(y_train, len_class_list)\n",
        "y_validation = to_categorical(y_validation, len_class_list)\n",
        "y_test = to_categorical(y_test, len_class_list)"
      ]
    },
    {
      "cell_type": "code",
      "execution_count": null,
      "id": "1106096a",
      "metadata": {
        "colab": {
          "base_uri": "https://localhost:8080/"
        },
        "id": "1106096a",
        "outputId": "ee378d7d-4c3d-49cd-d957-c2712ddd7d7f"
      },
      "outputs": [
        {
          "output_type": "stream",
          "name": "stdout",
          "text": [
            "Shapes\n",
            "===========================\n",
            "X_train: (17049, 28, 28, 1)\n",
            "y_train: (17049, 43)\n",
            " \n",
            "X_validation: (4263, 28, 28, 1)\n",
            "y_validation: (4263, 43)\n",
            " \n",
            "X_test: (5329, 28, 28, 1)\n",
            "y_test: (5329, 43)\n",
            "===========================\n"
          ]
        }
      ],
      "source": [
        "print('Shapes')\n",
        "print('===========================')\n",
        "print(f\"X_train: {X_train.shape}\")\n",
        "print(f\"y_train: {y_train.shape}\")\n",
        "print(\" \")\n",
        "print(f\"X_validation: {X_validation.shape}\")\n",
        "print(f\"y_validation: {y_validation.shape}\")\n",
        "print(\" \")\n",
        "print(f\"X_test: {X_test.shape}\")\n",
        "print(f\"y_test: {y_test.shape}\")\n",
        "print('===========================')"
      ]
    },
    {
      "cell_type": "markdown",
      "id": "3852b60f",
      "metadata": {
        "id": "3852b60f"
      },
      "source": [
        "### Budowa modelu "
      ]
    },
    {
      "cell_type": "code",
      "source": [
        "EarlyStop = EarlyStopping(monitor='val_loss', \n",
        "                          patience=5,\n",
        "                          verbose=1)"
      ],
      "metadata": {
        "id": "KSG3qcR9rOq0"
      },
      "id": "KSG3qcR9rOq0",
      "execution_count": null,
      "outputs": []
    },
    {
      "cell_type": "code",
      "source": [
        "def CNN_model_1():\n",
        "    model = Sequential()\n",
        "    model.add(Conv2D(64, kernel_size=(3, 3), activation='relu', input_shape=(28, 28, 1)))\n",
        "    model.add(Conv2D(64, kernel_size=(3, 3), activation='relu'))\n",
        "    model.add(MaxPool2D(pool_size=(2, 2)))\n",
        "    model.add(Dropout(0.25))\n",
        "    \n",
        "    model.add(Conv2D(128, kernel_size=(3, 3), activation='relu'))\n",
        "    model.add(Conv2D(128, kernel_size=(3, 3), activation='relu'))\n",
        "    model.add(MaxPool2D(pool_size=(2, 2)))\n",
        "    model.add(Dropout(0.25))\n",
        "    \n",
        "    model.add(Flatten())\n",
        "    model.add(Dense(128, activation='relu'))\n",
        "    model.add(Dense(len_class_list, activation = 'softmax'))\n",
        "\n",
        "    model.compile(loss='categorical_crossentropy', optimizer='Adam', metrics=['accuracy'])\n",
        "    \n",
        "    return model"
      ],
      "metadata": {
        "id": "bsC1qOqTIC5l"
      },
      "id": "bsC1qOqTIC5l",
      "execution_count": null,
      "outputs": []
    },
    {
      "cell_type": "code",
      "source": [
        "model_1 = CNN_model_1()\n",
        "print(model_1.summary())"
      ],
      "metadata": {
        "colab": {
          "base_uri": "https://localhost:8080/"
        },
        "id": "fSDKEi21JHG8",
        "outputId": "54e4b437-fa8d-41e3-b49a-d944836d853b"
      },
      "id": "fSDKEi21JHG8",
      "execution_count": null,
      "outputs": [
        {
          "output_type": "stream",
          "name": "stdout",
          "text": [
            "Model: \"sequential_1\"\n",
            "_________________________________________________________________\n",
            " Layer (type)                Output Shape              Param #   \n",
            "=================================================================\n",
            " conv2d_4 (Conv2D)           (None, 26, 26, 64)        640       \n",
            "                                                                 \n",
            " conv2d_5 (Conv2D)           (None, 24, 24, 64)        36928     \n",
            "                                                                 \n",
            " max_pooling2d_2 (MaxPooling  (None, 12, 12, 64)       0         \n",
            " 2D)                                                             \n",
            "                                                                 \n",
            " dropout_2 (Dropout)         (None, 12, 12, 64)        0         \n",
            "                                                                 \n",
            " conv2d_6 (Conv2D)           (None, 10, 10, 128)       73856     \n",
            "                                                                 \n",
            " conv2d_7 (Conv2D)           (None, 8, 8, 128)         147584    \n",
            "                                                                 \n",
            " max_pooling2d_3 (MaxPooling  (None, 4, 4, 128)        0         \n",
            " 2D)                                                             \n",
            "                                                                 \n",
            " dropout_3 (Dropout)         (None, 4, 4, 128)         0         \n",
            "                                                                 \n",
            " flatten_1 (Flatten)         (None, 2048)              0         \n",
            "                                                                 \n",
            " dense_2 (Dense)             (None, 128)               262272    \n",
            "                                                                 \n",
            " dense_3 (Dense)             (None, 43)                5547      \n",
            "                                                                 \n",
            "=================================================================\n",
            "Total params: 526,827\n",
            "Trainable params: 526,827\n",
            "Non-trainable params: 0\n",
            "_________________________________________________________________\n",
            "None\n"
          ]
        }
      ]
    },
    {
      "cell_type": "code",
      "source": [
        "history = model_1.fit(X_train, y_train,\n",
        "              batch_size= 16,\n",
        "              epochs= 30,\n",
        "              validation_data= (X_test, y_test),\n",
        "              callbacks=[EarlyStop],\n",
        "              shuffle=True)"
      ],
      "metadata": {
        "colab": {
          "base_uri": "https://localhost:8080/"
        },
        "id": "P52IFVwCJl78",
        "outputId": "f13e6ab7-84f6-421a-87e7-04c59ea48fcb"
      },
      "id": "P52IFVwCJl78",
      "execution_count": null,
      "outputs": [
        {
          "output_type": "stream",
          "name": "stdout",
          "text": [
            "Epoch 1/30\n",
            "1066/1066 [==============================] - 19s 6ms/step - loss: 1.0920 - accuracy: 0.6985 - val_loss: 0.1871 - val_accuracy: 0.9482\n",
            "Epoch 2/30\n",
            "1066/1066 [==============================] - 7s 6ms/step - loss: 0.1669 - accuracy: 0.9493 - val_loss: 0.1050 - val_accuracy: 0.9621\n",
            "Epoch 3/30\n",
            "1066/1066 [==============================] - 8s 7ms/step - loss: 0.1108 - accuracy: 0.9649 - val_loss: 0.0747 - val_accuracy: 0.9777\n",
            "Epoch 4/30\n",
            "1066/1066 [==============================] - 6s 6ms/step - loss: 0.0744 - accuracy: 0.9769 - val_loss: 0.0487 - val_accuracy: 0.9857\n",
            "Epoch 5/30\n",
            "1066/1066 [==============================] - 6s 6ms/step - loss: 0.0638 - accuracy: 0.9796 - val_loss: 0.0627 - val_accuracy: 0.9807\n",
            "Epoch 6/30\n",
            "1066/1066 [==============================] - 6s 6ms/step - loss: 0.0576 - accuracy: 0.9812 - val_loss: 0.0595 - val_accuracy: 0.9837\n",
            "Epoch 7/30\n",
            "1066/1066 [==============================] - 10s 9ms/step - loss: 0.0499 - accuracy: 0.9837 - val_loss: 0.0504 - val_accuracy: 0.9825\n",
            "Epoch 8/30\n",
            "1066/1066 [==============================] - 7s 7ms/step - loss: 0.0434 - accuracy: 0.9863 - val_loss: 0.0371 - val_accuracy: 0.9874\n",
            "Epoch 9/30\n",
            "1066/1066 [==============================] - 6s 6ms/step - loss: 0.0450 - accuracy: 0.9862 - val_loss: 0.0413 - val_accuracy: 0.9878\n",
            "Epoch 10/30\n",
            "1066/1066 [==============================] - 6s 6ms/step - loss: 0.0410 - accuracy: 0.9866 - val_loss: 0.0388 - val_accuracy: 0.9878\n",
            "Epoch 11/30\n",
            "1066/1066 [==============================] - 6s 6ms/step - loss: 0.0312 - accuracy: 0.9901 - val_loss: 0.0461 - val_accuracy: 0.9876\n",
            "Epoch 12/30\n",
            "1066/1066 [==============================] - 6s 6ms/step - loss: 0.0358 - accuracy: 0.9890 - val_loss: 0.0425 - val_accuracy: 0.9887\n",
            "Epoch 13/30\n",
            "1066/1066 [==============================] - 6s 6ms/step - loss: 0.0354 - accuracy: 0.9890 - val_loss: 0.0497 - val_accuracy: 0.9850\n",
            "Epoch 13: early stopping\n"
          ]
        }
      ]
    },
    {
      "cell_type": "code",
      "source": [
        "plt.figure(1)\n",
        "plt.plot(history.history['loss'])\n",
        "plt.plot(history.history['val_loss'])\n",
        "plt.legend(['training', 'validation'])\n",
        "plt.title('loss')\n",
        "plt.xlabel('epoch')\n",
        "\n",
        "plt.figure(2)\n",
        "plt.plot(history.history['accuracy'])\n",
        "plt.plot(history.history['val_accuracy'])\n",
        "plt.legend(['training', 'validation'])\n",
        "plt.title('Acurracy')\n",
        "plt.xlabel('epoch')\n",
        "plt.show()\n",
        "score = model_1.evaluate(X_test, y_test, verbose=0)\n",
        "print('Test Score:', score[0])\n",
        "print('Test Accuracy:', score[1])"
      ],
      "metadata": {
        "colab": {
          "base_uri": "https://localhost:8080/",
          "height": 610
        },
        "id": "PBx6BKOpNy6r",
        "outputId": "0bf26e33-fb3a-458b-fdeb-b0d6785abcf2"
      },
      "id": "PBx6BKOpNy6r",
      "execution_count": null,
      "outputs": [
        {
          "output_type": "display_data",
          "data": {
            "text/plain": [
              "<Figure size 432x288 with 1 Axes>"
            ],
            "image/png": "[encoded data removed]"
          },
          "metadata": {
            "needs_background": "light"
          }
        },
        {
          "output_type": "display_data",
          "data": {
            "text/plain": [
              "<Figure size 432x288 with 1 Axes>"
            ],
            "image/png": "[encoded data removed]"
          },
          "metadata": {
            "needs_background": "light"
          }
        },
        {
          "output_type": "stream",
          "name": "stdout",
          "text": [
            "Test Score: 0.04967725649476051\n",
            "Test Accuracy: 0.9849877953529358\n"
          ]
        }
      ]
    },
    {
      "cell_type": "code",
      "source": [
        "tf.keras.models.save_model(model_1, \"/content/drive/MyDrive/german_sign_classification/CNN_model_1_main_colab.hdf5\")"
      ],
      "metadata": {
        "id": "N7iZIwzeN2ti"
      },
      "id": "N7iZIwzeN2ti",
      "execution_count": null,
      "outputs": []
    },
    {
      "cell_type": "code",
      "execution_count": null,
      "id": "bd1e8a7d",
      "metadata": {
        "id": "bd1e8a7d"
      },
      "outputs": [],
      "source": [
        "def CNN_model_2():\n",
        "    model = Sequential()\n",
        "    model.add(Conv2D(32, (1, 1), padding='same', input_shape=X_train.shape[1:], activation='relu'))\n",
        "    model.add(Conv2D(32, (3, 3), activation='relu'))\n",
        "    model.add(MaxPooling2D(pool_size=(2, 2)))\n",
        "    model.add(Dropout(0.25))\n",
        "\n",
        "    model.add(Conv2D(64, (3, 3), padding='same', activation='relu'))\n",
        "    model.add(Conv2D(64, (3, 3), activation='relu'))\n",
        "    model.add(MaxPooling2D(pool_size=(2, 2)))\n",
        "    model.add(Dropout(0.25))\n",
        "\n",
        "    model.add(Flatten())\n",
        "    model.add(Dense(392, kernel_regularizer=regularizers.l2(0.01), activation='relu'))\n",
        "    model.add(Dropout(0.5))\n",
        "    model.add(Dense(len_class_list, activation='softmax'))\n",
        "    \n",
        "    model.compile(loss='categorical_crossentropy', optimizer='Adam', metrics=['accuracy'])\n",
        "    \n",
        "    return model"
      ]
    },
    {
      "cell_type": "code",
      "execution_count": null,
      "id": "7dadb256",
      "metadata": {
        "colab": {
          "base_uri": "https://localhost:8080/"
        },
        "id": "7dadb256",
        "outputId": "f5d69b85-44ac-4b5d-b9d7-771af8f52f20"
      },
      "outputs": [
        {
          "output_type": "stream",
          "name": "stdout",
          "text": [
            "Model: \"sequential_1\"\n",
            "_________________________________________________________________\n",
            " Layer (type)                Output Shape              Param #   \n",
            "=================================================================\n",
            " conv2d_4 (Conv2D)           (None, 28, 28, 32)        64        \n",
            "                                                                 \n",
            " conv2d_5 (Conv2D)           (None, 26, 26, 32)        9248      \n",
            "                                                                 \n",
            " max_pooling2d_2 (MaxPooling  (None, 13, 13, 32)       0         \n",
            " 2D)                                                             \n",
            "                                                                 \n",
            " dropout_3 (Dropout)         (None, 13, 13, 32)        0         \n",
            "                                                                 \n",
            " conv2d_6 (Conv2D)           (None, 13, 13, 64)        18496     \n",
            "                                                                 \n",
            " conv2d_7 (Conv2D)           (None, 11, 11, 64)        36928     \n",
            "                                                                 \n",
            " max_pooling2d_3 (MaxPooling  (None, 5, 5, 64)         0         \n",
            " 2D)                                                             \n",
            "                                                                 \n",
            " dropout_4 (Dropout)         (None, 5, 5, 64)          0         \n",
            "                                                                 \n",
            " flatten_1 (Flatten)         (None, 1600)              0         \n",
            "                                                                 \n",
            " dense_2 (Dense)             (None, 392)               627592    \n",
            "                                                                 \n",
            " dropout_5 (Dropout)         (None, 392)               0         \n",
            "                                                                 \n",
            " dense_3 (Dense)             (None, 43)                16899     \n",
            "                                                                 \n",
            "=================================================================\n",
            "Total params: 709,227\n",
            "Trainable params: 709,227\n",
            "Non-trainable params: 0\n",
            "_________________________________________________________________\n",
            "None\n"
          ]
        }
      ],
      "source": [
        "model_2 = CNN_model_2()\n",
        "print(model_2.summary())"
      ]
    },
    {
      "cell_type": "code",
      "execution_count": null,
      "id": "a29db024",
      "metadata": {
        "colab": {
          "base_uri": "https://localhost:8080/"
        },
        "id": "a29db024",
        "outputId": "86522a13-d2f1-4725-9d32-583d18974fbe"
      },
      "outputs": [
        {
          "output_type": "stream",
          "name": "stdout",
          "text": [
            "Epoch 1/50\n",
            "1066/1066 [==============================] - 7s 6ms/step - loss: 2.5677 - accuracy: 0.4027 - val_loss: 1.0410 - val_accuracy: 0.8270\n",
            "Epoch 2/50\n",
            "1066/1066 [==============================] - 6s 5ms/step - loss: 1.1701 - accuracy: 0.7761 - val_loss: 0.7051 - val_accuracy: 0.9306\n",
            "Epoch 3/50\n",
            "1066/1066 [==============================] - 6s 5ms/step - loss: 0.9086 - accuracy: 0.8537 - val_loss: 0.5986 - val_accuracy: 0.9563\n",
            "Epoch 4/50\n",
            "1066/1066 [==============================] - 6s 6ms/step - loss: 0.8117 - accuracy: 0.8805 - val_loss: 0.5355 - val_accuracy: 0.9711\n",
            "Epoch 5/50\n",
            "1066/1066 [==============================] - 6s 6ms/step - loss: 0.7248 - accuracy: 0.9015 - val_loss: 0.4990 - val_accuracy: 0.9730\n",
            "Epoch 6/50\n",
            "1066/1066 [==============================] - 6s 6ms/step - loss: 0.7011 - accuracy: 0.9082 - val_loss: 0.4828 - val_accuracy: 0.9749\n",
            "Epoch 7/50\n",
            "1066/1066 [==============================] - 6s 5ms/step - loss: 0.6717 - accuracy: 0.9170 - val_loss: 0.4903 - val_accuracy: 0.9782\n",
            "Epoch 8/50\n",
            "1066/1066 [==============================] - 6s 6ms/step - loss: 0.6362 - accuracy: 0.9257 - val_loss: 0.4575 - val_accuracy: 0.9809\n",
            "Epoch 9/50\n",
            "1066/1066 [==============================] - 6s 6ms/step - loss: 0.6046 - accuracy: 0.9330 - val_loss: 0.4326 - val_accuracy: 0.9831\n",
            "Epoch 10/50\n",
            "1066/1066 [==============================] - 6s 5ms/step - loss: 0.5816 - accuracy: 0.9350 - val_loss: 0.4500 - val_accuracy: 0.9795\n",
            "Epoch 11/50\n",
            "1066/1066 [==============================] - 6s 6ms/step - loss: 0.5760 - accuracy: 0.9388 - val_loss: 0.4374 - val_accuracy: 0.9816\n",
            "Epoch 12/50\n",
            "1066/1066 [==============================] - 6s 6ms/step - loss: 0.5579 - accuracy: 0.9407 - val_loss: 0.4089 - val_accuracy: 0.9831\n",
            "Epoch 13/50\n",
            "1066/1066 [==============================] - 6s 6ms/step - loss: 0.5451 - accuracy: 0.9425 - val_loss: 0.4072 - val_accuracy: 0.9869\n",
            "Epoch 14/50\n",
            "1066/1066 [==============================] - 6s 5ms/step - loss: 0.5086 - accuracy: 0.9502 - val_loss: 0.4001 - val_accuracy: 0.9863\n",
            "Epoch 15/50\n",
            "1066/1066 [==============================] - 5s 5ms/step - loss: 0.5192 - accuracy: 0.9508 - val_loss: 0.4039 - val_accuracy: 0.9854\n",
            "Epoch 16/50\n",
            "1066/1066 [==============================] - 6s 5ms/step - loss: 0.5192 - accuracy: 0.9490 - val_loss: 0.3949 - val_accuracy: 0.9844\n",
            "Epoch 17/50\n",
            "1066/1066 [==============================] - 5s 5ms/step - loss: 0.5105 - accuracy: 0.9534 - val_loss: 0.3763 - val_accuracy: 0.9869\n",
            "Epoch 18/50\n",
            "1066/1066 [==============================] - 6s 6ms/step - loss: 0.4979 - accuracy: 0.9531 - val_loss: 0.3800 - val_accuracy: 0.9917\n",
            "Epoch 19/50\n",
            "1066/1066 [==============================] - 6s 5ms/step - loss: 0.4748 - accuracy: 0.9555 - val_loss: 0.3947 - val_accuracy: 0.9863\n",
            "Epoch 20/50\n",
            "1066/1066 [==============================] - 6s 6ms/step - loss: 0.4955 - accuracy: 0.9543 - val_loss: 0.4025 - val_accuracy: 0.9902\n",
            "Epoch 21/50\n",
            "1066/1066 [==============================] - 6s 6ms/step - loss: 0.4753 - accuracy: 0.9573 - val_loss: 0.3827 - val_accuracy: 0.9895\n",
            "Epoch 22/50\n",
            "1066/1066 [==============================] - 6s 5ms/step - loss: 0.4577 - accuracy: 0.9615 - val_loss: 0.3738 - val_accuracy: 0.9886\n",
            "Epoch 23/50\n",
            "1066/1066 [==============================] - 6s 5ms/step - loss: 0.4775 - accuracy: 0.9595 - val_loss: 0.3764 - val_accuracy: 0.9925\n",
            "Epoch 24/50\n",
            "1066/1066 [==============================] - 6s 6ms/step - loss: 0.4654 - accuracy: 0.9623 - val_loss: 0.3813 - val_accuracy: 0.9891\n",
            "Epoch 25/50\n",
            "1066/1066 [==============================] - 6s 5ms/step - loss: 0.4549 - accuracy: 0.9623 - val_loss: 0.3785 - val_accuracy: 0.9917\n",
            "Epoch 26/50\n",
            "1066/1066 [==============================] - 7s 6ms/step - loss: 0.4553 - accuracy: 0.9629 - val_loss: 0.3222 - val_accuracy: 0.9917\n",
            "Epoch 27/50\n",
            "1066/1066 [==============================] - 6s 6ms/step - loss: 0.4524 - accuracy: 0.9613 - val_loss: 0.3623 - val_accuracy: 0.9927\n",
            "Epoch 28/50\n",
            "1066/1066 [==============================] - 6s 5ms/step - loss: 0.4476 - accuracy: 0.9637 - val_loss: 0.3502 - val_accuracy: 0.9921\n",
            "Epoch 29/50\n",
            "1066/1066 [==============================] - 6s 6ms/step - loss: 0.4268 - accuracy: 0.9654 - val_loss: 0.3467 - val_accuracy: 0.9919\n",
            "Epoch 30/50\n",
            "1066/1066 [==============================] - 5s 5ms/step - loss: 0.4460 - accuracy: 0.9649 - val_loss: 0.3511 - val_accuracy: 0.9923\n",
            "Epoch 31/50\n",
            "1066/1066 [==============================] - 6s 5ms/step - loss: 0.4354 - accuracy: 0.9653 - val_loss: 0.3376 - val_accuracy: 0.9914\n",
            "Epoch 31: early stopping\n"
          ]
        }
      ],
      "source": [
        "history = model_2.fit(X_train, y_train,\n",
        "              batch_size= 16,\n",
        "              epochs= 50,\n",
        "              validation_data= (X_test, y_test),\n",
        "              callbacks=[EarlyStop],\n",
        "              shuffle=True)"
      ]
    },
    {
      "cell_type": "code",
      "execution_count": null,
      "id": "6326d62f",
      "metadata": {
        "colab": {
          "base_uri": "https://localhost:8080/",
          "height": 610
        },
        "id": "6326d62f",
        "outputId": "c9f780a1-2e11-4ee9-a420-fc4413924f06"
      },
      "outputs": [
        {
          "output_type": "display_data",
          "data": {
            "text/plain": [
              "<Figure size 432x288 with 1 Axes>"
            ],
            "image/png": "[encoded data removed]"
          },
          "metadata": {
            "needs_background": "light"
          }
        },
        {
          "output_type": "display_data",
          "data": {
            "text/plain": [
              "<Figure size 432x288 with 1 Axes>"
            ],
            "image/png": "[encoded data removed]"
          },
          "metadata": {
            "needs_background": "light"
          }
        },
        {
          "output_type": "stream",
          "name": "stdout",
          "text": [
            "Test Score: 0.33763718605041504\n",
            "Test Accuracy: 0.9913679957389832\n"
          ]
        }
      ],
      "source": [
        "plt.figure(1)\n",
        "plt.plot(history.history['loss'])\n",
        "plt.plot(history.history['val_loss'])\n",
        "plt.legend(['training', 'validation'])\n",
        "plt.title('loss')\n",
        "plt.xlabel('epoch')\n",
        "\n",
        "plt.figure(2)\n",
        "plt.plot(history.history['accuracy'])\n",
        "plt.plot(history.history['val_accuracy'])\n",
        "plt.legend(['training', 'validation'])\n",
        "plt.title('Acurracy')\n",
        "plt.xlabel('epoch')\n",
        "plt.show()\n",
        "score = model_2.evaluate(X_test, y_test, verbose=0)\n",
        "print('Test Score:', score[0])\n",
        "print('Test Accuracy:', score[1])"
      ]
    },
    {
      "cell_type": "markdown",
      "id": "05c8c394",
      "metadata": {
        "id": "05c8c394"
      },
      "source": [
        "### Zapisanie modelu "
      ]
    },
    {
      "cell_type": "code",
      "execution_count": null,
      "id": "56922e4d",
      "metadata": {
        "id": "56922e4d"
      },
      "outputs": [],
      "source": [
        "tf.keras.models.save_model(model_2, \"/content/drive/MyDrive/german_sign_classification/CNN_model_main_2_colab.hdf5\")"
      ]
    },
    {
      "cell_type": "markdown",
      "id": "fd1988a8",
      "metadata": {
        "id": "fd1988a8"
      },
      "source": [
        "=============================================================================================================="
      ]
    },
    {
      "cell_type": "markdown",
      "id": "ffe58810",
      "metadata": {
        "id": "ffe58810"
      },
      "source": [
        "### ImageDataGenerator"
      ]
    },
    {
      "cell_type": "code",
      "execution_count": null,
      "id": "79a6ce97",
      "metadata": {
        "colab": {
          "base_uri": "https://localhost:8080/"
        },
        "id": "79a6ce97",
        "outputId": "78379f2f-8522-4f30-c582-82b258541b8e"
      },
      "outputs": [
        {
          "output_type": "stream",
          "name": "stdout",
          "text": [
            "0\n",
            "1\n",
            "2\n",
            "3\n",
            "4\n",
            "5\n",
            "6\n",
            "7\n",
            "8\n",
            "9\n",
            "10\n",
            "11\n",
            "12\n",
            "13\n",
            "14\n",
            "15\n",
            "16\n",
            "17\n",
            "18\n",
            "19\n",
            "20\n",
            "21\n",
            "22\n",
            "23\n",
            "24\n",
            "25\n",
            "26\n",
            "27\n",
            "28\n",
            "29\n",
            "30\n",
            "31\n",
            "32\n",
            "33\n",
            "34\n",
            "35\n",
            "36\n",
            "37\n",
            "38\n",
            "39\n",
            "40\n",
            "41\n",
            "42\n"
          ]
        }
      ],
      "source": [
        "num_of_samples = []\n",
        "for idx, _ in labels.iterrows():\n",
        "    print(idx)\n",
        "    #x_selected = X_train[np.where(y_train == idx)]\n",
        "    #num_of_samples.append(len(x_selected))\n",
        "\n",
        "    class_list = os.listdir(data_path)\n",
        "    num_of_samples = []\n",
        "    for idx, _ in labels.iterrows():\n",
        "        x_selected = X_train[np.where(y_train == idx)]\n",
        "        num_of_samples.append(len(x_selected))"
      ]
    },
    {
      "cell_type": "code",
      "execution_count": null,
      "id": "82106d3d",
      "metadata": {
        "id": "82106d3d"
      },
      "outputs": [],
      "source": [
        "MAX_NUM_OF_SAMPLES = max(num_of_samples)\n",
        "MAX_NUM_OF_SAMPLES"
      ]
    },
    {
      "cell_type": "code",
      "execution_count": null,
      "id": "3500abcc",
      "metadata": {
        "id": "3500abcc"
      },
      "outputs": [],
      "source": [
        "datagen = ImageDataGenerator(\n",
        "rotation_range=40,\n",
        "width_shift_range=0.2,\n",
        "height_shift_range=0.2,\n",
        "shear_range=0.2,\n",
        "zoom_range=0.2,\n",
        "horizontal_flip=True,\n",
        "fill_mode='nearest')"
      ]
    },
    {
      "cell_type": "code",
      "execution_count": null,
      "id": "9c8a4543",
      "metadata": {
        "id": "9c8a4543"
      },
      "outputs": [],
      "source": [
        "test_images = []\n",
        "size_of_labels = []\n",
        "\n",
        "for i in range(0, len(class_list)):\n",
        "    pic_list = os.listdir(data_path  + f'/class_ ({i})') # 0, 1, 2, 3 ...\n",
        "    size_of_labels.append(len(pic_list))\n",
        "    for idx in pic_list:\n",
        "        cur_img = cv2.imread(data_path + f'/class_ ({i})' + \"/\" + idx)\n",
        "        test_images.append(cur_img)\n",
        "        break"
      ]
    },
    {
      "cell_type": "code",
      "execution_count": null,
      "id": "367408f0",
      "metadata": {
        "id": "367408f0"
      },
      "outputs": [],
      "source": [
        "dir_path = r'C:\\Users\\26609\\Desktop\\german_sign\\Training'\n",
        "num_of_samples = []\n",
        "for idx, pic in enumerate(test_images):\n",
        "    img = img_to_array(pic)  # convert image to numpy arry\n",
        "    img = img.reshape((1,) + img.shape)  # reshape imag\n",
        "    for batch in datagen.flow(img, save_to_dir= dir_path + f'/class_ ({idx})', save_prefix='test_image', save_format='ppm'):  # this loops runs forever until we break, saving images to current directory with specified prefix\n",
        "        size_of_labels[idx] += 1\n",
        "        if size_of_labels[idx] >= MAX_NUM_OF_SAMPLES: \n",
        "            break"
      ]
    },
    {
      "cell_type": "markdown",
      "id": "c53eb9ff",
      "metadata": {
        "id": "c53eb9ff"
      },
      "source": [
        "#### Rozkład danych po wykonaniu"
      ]
    },
    {
      "cell_type": "markdown",
      "id": "e4761a7b",
      "metadata": {
        "id": "e4761a7b"
      },
      "source": [
        "![obraz_2022-06-24_104245104.png](attachment:obraz_2022-06-24_104245104.png)"
      ]
    },
    {
      "cell_type": "code",
      "execution_count": null,
      "id": "6285357d",
      "metadata": {
        "id": "6285357d"
      },
      "outputs": [],
      "source": [
        ""
      ]
    }
  ],
  "metadata": {
    "kernelspec": {
      "display_name": "Python 3 (ipykernel)",
      "language": "python",
      "name": "python3"
    },
    "language_info": {
      "codemirror_mode": {
        "name": "ipython",
        "version": 3
      },
      "file_extension": ".py",
      "mimetype": "text/x-python",
      "name": "python",
      "nbconvert_exporter": "python",
      "pygments_lexer": "ipython3",
      "version": "3.9.7"
    },
    "colab": {
      "name": "GS_model.ipynb",
      "provenance": [],
      "collapsed_sections": [
        "ffe58810",
        "c53eb9ff"
      ]
    },
    "accelerator": "GPU",
    "gpuClass": "standard"
  },
  "nbformat": 4,
  "nbformat_minor": 5
}