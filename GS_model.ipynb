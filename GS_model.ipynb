{
 "cells": [
  {
   "cell_type": "code",
   "execution_count": 49,
   "id": "380f9976",
   "metadata": {},
   "outputs": [],
   "source": [
    "import tensorflow as tf\n",
    "from keras.models import Sequential, save_model\n",
    "from keras.layers import Conv2D, MaxPool2D, MaxPooling2D, Dense, Dropout, Activation, Flatten\n",
    "import cv2 \n",
    "import matplotlib.pyplot as plt\n",
    "import numpy as np\n",
    "import pandas as pd\n",
    "import os\n",
    "from sklearn.model_selection import train_test_split\n",
    "from keras.utils.np_utils import to_categorical\n",
    "\n",
    "# from keras.preprocessing.image import ImageDataGenerator\n",
    "# from tensorflow.keras.utils import array_to_img, img_to_array"
   ]
  },
  {
   "cell_type": "markdown",
   "id": "599bc5e2",
   "metadata": {},
   "source": [
    "## Pobranie danych"
   ]
  },
  {
   "cell_type": "code",
   "execution_count": 50,
   "id": "9e19e6d0",
   "metadata": {},
   "outputs": [],
   "source": [
    "data_path = 'C:/Users/26609/Desktop/german_sign/data'\n",
    "label_path = 'C:/Users/26609/Desktop/projekt_piotr/labels.csv'"
   ]
  },
  {
   "cell_type": "code",
   "execution_count": 51,
   "id": "1f4cc5a7",
   "metadata": {},
   "outputs": [],
   "source": [
    "class_list = os.listdir(data_path)\n",
    "len_class_list = len(class_list)"
   ]
  },
  {
   "cell_type": "code",
   "execution_count": 52,
   "id": "897b13b2",
   "metadata": {},
   "outputs": [],
   "source": [
    "def colect_data(data_path):\n",
    "    images = []\n",
    "    classes = []\n",
    "    class_list = os.listdir(data_path)\n",
    "\n",
    "    print(f\"Total Classes Detected: {len_class_list}\")\n",
    "    print(\"Importing Classes.....\")\n",
    "\n",
    "    for class_num in range(len_class_list):\n",
    "        pic_list = os.listdir(data_path  + f'/class_ ({class_num})')\n",
    "        for img in pic_list:\n",
    "            cur_img = cv2.imread(data_path + f'/class_ ({class_num})' + \"/\" + img)\n",
    "            if cur_img is None:\n",
    "                print('file is none')\n",
    "            cur_img = cv2.resize(cur_img, (28, 28))\n",
    "            images.append(cur_img)\n",
    "            classes.append(class_num)\n",
    "        print(class_num, end=\" \")\n",
    "    print(\" \")\n",
    "    images = np.array(images)\n",
    "    classes = np.array(classes)\n",
    "    return images, classes"
   ]
  },
  {
   "cell_type": "code",
   "execution_count": 53,
   "id": "ee784229",
   "metadata": {},
   "outputs": [
    {
     "name": "stdout",
     "output_type": "stream",
     "text": [
      "Total Classes Detected: 43\n",
      "Importing Classes.....\n",
      "0 1 2 3 4 5 6 7 8 9 10 11 12 13 14 15 16 17 18 19 20 21 22 23 24 25 26 27 28 29 30 31 32 33 34 35 36 37 38 39 40 41 42  \n"
     ]
    }
   ],
   "source": [
    "images, classes = colect_data(data_path)"
   ]
  },
  {
   "cell_type": "code",
   "execution_count": 54,
   "id": "5eba1a68",
   "metadata": {},
   "outputs": [
    {
     "name": "stdout",
     "output_type": "stream",
     "text": [
      "(26640, 28, 28, 3)\n",
      "(26640,)\n"
     ]
    }
   ],
   "source": [
    "print(images.shape)\n",
    "print(classes.shape)"
   ]
  },
  {
   "cell_type": "code",
   "execution_count": 55,
   "id": "36b180ef",
   "metadata": {},
   "outputs": [
    {
     "data": {
      "text/plain": [
       "<matplotlib.image.AxesImage at 0x27d2bcb48e0>"
      ]
     },
     "execution_count": 55,
     "metadata": {},
     "output_type": "execute_result"
    },
    {
     "data": {
      "image/png": "[encoded data removed]",
      "text/plain": [
       "<Figure size 432x288 with 1 Axes>"
      ]
     },
     "metadata": {
      "needs_background": "light"
     },
     "output_type": "display_data"
    }
   ],
   "source": [
    "plt.imshow(images[2])"
   ]
  },
  {
   "cell_type": "markdown",
   "id": "7c3ad90b",
   "metadata": {},
   "source": [
    "## Podział danych na zbiory"
   ]
  },
  {
   "cell_type": "code",
   "execution_count": 56,
   "id": "1497806b",
   "metadata": {},
   "outputs": [],
   "source": [
    "X_train, X_test, y_train, y_test = train_test_split(images, classes, test_size=0.2)\n",
    "X_train, X_validation, y_train, y_validation = train_test_split(X_train, y_train, test_size=0.2)"
   ]
  },
  {
   "cell_type": "code",
   "execution_count": 57,
   "id": "9d470bfb",
   "metadata": {},
   "outputs": [
    {
     "name": "stdout",
     "output_type": "stream",
     "text": [
      "Shapes\n",
      "===========================\n",
      "X_train: (17049, 28, 28, 3)\n",
      "y_train: (17049,)\n",
      " \n",
      "X_validation: (4263, 28, 28, 3)\n",
      "y_validation: (4263,)\n",
      " \n",
      "X_test: (5328, 28, 28, 3)\n",
      "y_test: (5328,)\n",
      "===========================\n"
     ]
    }
   ],
   "source": [
    "print('Shapes')\n",
    "print('===========================')\n",
    "print(f\"X_train: {X_train.shape}\")\n",
    "print(f\"y_train: {y_train.shape}\")\n",
    "print(\" \")\n",
    "print(f\"X_validation: {X_validation.shape}\")\n",
    "print(f\"y_validation: {y_validation.shape}\")\n",
    "print(\" \")\n",
    "print(f\"X_test: {X_test.shape}\")\n",
    "print(f\"y_test: {y_test.shape}\")\n",
    "print('===========================')"
   ]
  },
  {
   "cell_type": "markdown",
   "id": "995d7d21",
   "metadata": {},
   "source": [
    "### Klasy "
   ]
  },
  {
   "cell_type": "code",
   "execution_count": 58,
   "id": "8b336fa3",
   "metadata": {
    "scrolled": true
   },
   "outputs": [
    {
     "name": "stdout",
     "output_type": "stream",
     "text": [
      "<class 'pandas.core.frame.DataFrame'>\n",
      "RangeIndex: 43 entries, 0 to 42\n",
      "Data columns (total 2 columns):\n",
      " #   Column   Non-Null Count  Dtype \n",
      "---  ------   --------------  ----- \n",
      " 0   ClassId  43 non-null     int64 \n",
      " 1   Name     43 non-null     object\n",
      "dtypes: int64(1), object(1)\n",
      "memory usage: 816.0+ bytes\n"
     ]
    }
   ],
   "source": [
    "labels = pd.read_csv(label_path)\n",
    "labels.info()"
   ]
  },
  {
   "cell_type": "code",
   "execution_count": 59,
   "id": "3d50c0b8",
   "metadata": {},
   "outputs": [
    {
     "data": {
      "text/html": [
       "<div>\n",
       "<style scoped>\n",
       "    .dataframe tbody tr th:only-of-type {\n",
       "        vertical-align: middle;\n",
       "    }\n",
       "\n",
       "    .dataframe tbody tr th {\n",
       "        vertical-align: top;\n",
       "    }\n",
       "\n",
       "    .dataframe thead th {\n",
       "        text-align: right;\n",
       "    }\n",
       "</style>\n",
       "<table border=\"1\" class=\"dataframe\">\n",
       "  <thead>\n",
       "    <tr style=\"text-align: right;\">\n",
       "      <th></th>\n",
       "      <th>ClassId</th>\n",
       "      <th>Name</th>\n",
       "    </tr>\n",
       "  </thead>\n",
       "  <tbody>\n",
       "    <tr>\n",
       "      <th>9</th>\n",
       "      <td>9</td>\n",
       "      <td>No passing</td>\n",
       "    </tr>\n",
       "    <tr>\n",
       "      <th>3</th>\n",
       "      <td>3</td>\n",
       "      <td>Speed limit (60km/h)</td>\n",
       "    </tr>\n",
       "    <tr>\n",
       "      <th>18</th>\n",
       "      <td>18</td>\n",
       "      <td>General caution</td>\n",
       "    </tr>\n",
       "    <tr>\n",
       "      <th>32</th>\n",
       "      <td>32</td>\n",
       "      <td>End of all speed and passing limits</td>\n",
       "    </tr>\n",
       "  </tbody>\n",
       "</table>\n",
       "</div>"
      ],
      "text/plain": [
       "    ClassId                                 Name\n",
       "9         9                           No passing\n",
       "3         3                 Speed limit (60km/h)\n",
       "18       18                      General caution\n",
       "32       32  End of all speed and passing limits"
      ]
     },
     "execution_count": 59,
     "metadata": {},
     "output_type": "execute_result"
    }
   ],
   "source": [
    "labels.sample(4)"
   ]
  },
  {
   "cell_type": "markdown",
   "id": "8fac8a7b",
   "metadata": {},
   "source": [
    "## Rozkład poszczególnych klas "
   ]
  },
  {
   "cell_type": "code",
   "execution_count": 60,
   "id": "2039a662",
   "metadata": {},
   "outputs": [],
   "source": [
    "def show_distribution(labels, X_train, y_train):\n",
    "    class_list = os.listdir(data_path)\n",
    "    num_of_samples = []\n",
    "    for idx, _ in labels.iterrows():\n",
    "        x_selected = X_train[np.where(y_train == idx)]\n",
    "        num_of_samples.append(len(x_selected))\n",
    "        \n",
    "    plt.figure(figsize=(12, 4))\n",
    "    plt.bar(range(0, len(class_list)), num_of_samples)\n",
    "    plt.title(\"Distribution of the training dataset\")\n",
    "    plt.xlabel(\"Class number\")\n",
    "    plt.ylabel(\"Number of images\")\n",
    "    plt.grid()\n",
    "    plt.show()"
   ]
  },
  {
   "cell_type": "code",
   "execution_count": 61,
   "id": "7002fe8d",
   "metadata": {},
   "outputs": [
    {
     "data": {
      "image/png": "[encoded data removed]",
      "text/plain": [
       "<Figure size 864x288 with 1 Axes>"
      ]
     },
     "metadata": {
      "needs_background": "light"
     },
     "output_type": "display_data"
    }
   ],
   "source": [
    "show_distribution(labels, X_train, y_train)"
   ]
  },
  {
   "cell_type": "code",
   "execution_count": 62,
   "id": "434bbe36",
   "metadata": {},
   "outputs": [],
   "source": [
    "# Po dodaniu obraów za pomocą ImageDataGenerator, model działał gorzej \n",
    "# Sposób wykonania na końcu notatnika "
   ]
  },
  {
   "cell_type": "markdown",
   "id": "0e7fe5fd",
   "metadata": {},
   "source": [
    "### Preprocessing danych"
   ]
  },
  {
   "cell_type": "code",
   "execution_count": 63,
   "id": "6f3fade8",
   "metadata": {},
   "outputs": [],
   "source": [
    "def preprocessing(img):\n",
    "    img = cv2.cvtColor(img, cv2.COLOR_BGR2GRAY)  \n",
    "    img = cv2.equalizeHist(img) # It is a method that improves the contrast in an image  \n",
    "    img = img / 255.0  \n",
    "    return img"
   ]
  },
  {
   "cell_type": "code",
   "execution_count": 64,
   "id": "c19aaf6c",
   "metadata": {},
   "outputs": [],
   "source": [
    "X_train = np.array(list(map(preprocessing, X_train))) \n",
    "X_validation = np.array(list(map(preprocessing, X_validation)))\n",
    "X_test = np.array(list(map(preprocessing, X_test)))"
   ]
  },
  {
   "cell_type": "markdown",
   "id": "93888c42",
   "metadata": {},
   "source": [
    "### Dodanie kolejnego wymiaru "
   ]
  },
  {
   "cell_type": "code",
   "execution_count": 65,
   "id": "539f412e",
   "metadata": {},
   "outputs": [],
   "source": [
    "X_train = X_train.reshape(X_train.shape[0], X_train.shape[1], X_train.shape[2], 1)\n",
    "X_validation = X_validation.reshape(X_validation.shape[0], X_validation.shape[1], X_validation.shape[2], 1)\n",
    "X_test = X_test.reshape(X_test.shape[0], X_test.shape[1], X_test.shape[2], 1)"
   ]
  },
  {
   "cell_type": "code",
   "execution_count": 66,
   "id": "16fe4317",
   "metadata": {},
   "outputs": [],
   "source": [
    "class_num = 43"
   ]
  },
  {
   "cell_type": "code",
   "execution_count": 67,
   "id": "bdcca3fe",
   "metadata": {},
   "outputs": [],
   "source": [
    "y_train = to_categorical(y_train, class_num)\n",
    "y_validation = to_categorical(y_validation, class_num)\n",
    "y_test = to_categorical(y_test, class_num)"
   ]
  },
  {
   "cell_type": "code",
   "execution_count": 68,
   "id": "1106096a",
   "metadata": {},
   "outputs": [
    {
     "name": "stdout",
     "output_type": "stream",
     "text": [
      "Shapes\n",
      "===========================\n",
      "X_train: (17049, 28, 28, 1)\n",
      "y_train: (17049, 43)\n",
      " \n",
      "X_validation: (4263, 28, 28, 1)\n",
      "y_validation: (4263, 43)\n",
      " \n",
      "X_test: (5328, 28, 28, 1)\n",
      "y_test: (5328, 43)\n",
      "===========================\n"
     ]
    }
   ],
   "source": [
    "print('Shapes')\n",
    "print('===========================')\n",
    "print(f\"X_train: {X_train.shape}\")\n",
    "print(f\"y_train: {y_train.shape}\")\n",
    "print(\" \")\n",
    "print(f\"X_validation: {X_validation.shape}\")\n",
    "print(f\"y_validation: {y_validation.shape}\")\n",
    "print(\" \")\n",
    "print(f\"X_test: {X_test.shape}\")\n",
    "print(f\"y_test: {y_test.shape}\")\n",
    "print('===========================')"
   ]
  },
  {
   "cell_type": "markdown",
   "id": "3852b60f",
   "metadata": {},
   "source": [
    "### Budowa modelu "
   ]
  },
  {
   "cell_type": "code",
   "execution_count": 69,
   "id": "bd1e8a7d",
   "metadata": {},
   "outputs": [],
   "source": [
    "def CNN_model():\n",
    "    model = Sequential()\n",
    "    model.add(Conv2D(32, (3, 3), padding='same', input_shape=X_train.shape[1:], activation='relu'))\n",
    "    model.add(Conv2D(32, (3, 3), activation='relu'))\n",
    "    model.add(MaxPooling2D(pool_size=(2, 2)))\n",
    "    model.add(Dropout(0.25))\n",
    "\n",
    "    model.add(Conv2D(64, (3, 3), padding='same', activation='relu'))\n",
    "    model.add(Conv2D(64, (3, 3), activation='relu'))\n",
    "    model.add(MaxPooling2D(pool_size=(2, 2)))\n",
    "    model.add(Dropout(0.25))\n",
    "\n",
    "    model.add(Flatten())\n",
    "    model.add(Dense(392, activation='relu'))\n",
    "    model.add(Dropout(0.5))\n",
    "    model.add(Dense(len_class_list, activation='softmax'))\n",
    "    \n",
    "    model.compile(loss='categorical_crossentropy', optimizer='Adam', metrics=['accuracy'])\n",
    "    \n",
    "    return model"
   ]
  },
  {
   "cell_type": "code",
   "execution_count": 70,
   "id": "7dadb256",
   "metadata": {},
   "outputs": [
    {
     "name": "stdout",
     "output_type": "stream",
     "text": [
      "Model: \"sequential_4\"\n",
      "_________________________________________________________________\n",
      " Layer (type)                Output Shape              Param #   \n",
      "=================================================================\n",
      " conv2d_13 (Conv2D)          (None, 28, 28, 32)        320       \n",
      "                                                                 \n",
      " conv2d_14 (Conv2D)          (None, 26, 26, 32)        9248      \n",
      "                                                                 \n",
      " max_pooling2d_6 (MaxPooling  (None, 13, 13, 32)       0         \n",
      " 2D)                                                             \n",
      "                                                                 \n",
      " dropout_8 (Dropout)         (None, 13, 13, 32)        0         \n",
      "                                                                 \n",
      " conv2d_15 (Conv2D)          (None, 13, 13, 64)        18496     \n",
      "                                                                 \n",
      " conv2d_16 (Conv2D)          (None, 11, 11, 64)        36928     \n",
      "                                                                 \n",
      " max_pooling2d_7 (MaxPooling  (None, 5, 5, 64)         0         \n",
      " 2D)                                                             \n",
      "                                                                 \n",
      " dropout_9 (Dropout)         (None, 5, 5, 64)          0         \n",
      "                                                                 \n",
      " flatten_3 (Flatten)         (None, 1600)              0         \n",
      "                                                                 \n",
      " dense_5 (Dense)             (None, 392)               627592    \n",
      "                                                                 \n",
      " dropout_10 (Dropout)        (None, 392)               0         \n",
      "                                                                 \n",
      " dense_6 (Dense)             (None, 43)                16899     \n",
      "                                                                 \n",
      "=================================================================\n",
      "Total params: 709,483\n",
      "Trainable params: 709,483\n",
      "Non-trainable params: 0\n",
      "_________________________________________________________________\n",
      "None\n"
     ]
    }
   ],
   "source": [
    "model = CNN_model()\n",
    "print(model.summary())"
   ]
  },
  {
   "cell_type": "code",
   "execution_count": 71,
   "id": "a29db024",
   "metadata": {},
   "outputs": [
    {
     "name": "stdout",
     "output_type": "stream",
     "text": [
      "Epoch 1/6\n",
      "1066/1066 [==============================] - 36s 32ms/step - loss: 1.4549 - accuracy: 0.5896 - val_loss: 0.2543 - val_accuracy: 0.9232\n",
      "Epoch 2/6\n",
      "1066/1066 [==============================] - 40s 37ms/step - loss: 0.3468 - accuracy: 0.8916 - val_loss: 0.0975 - val_accuracy: 0.9737\n",
      "Epoch 3/6\n",
      "1066/1066 [==============================] - 38s 36ms/step - loss: 0.2088 - accuracy: 0.9347 - val_loss: 0.0985 - val_accuracy: 0.9698\n",
      "Epoch 4/6\n",
      "1066/1066 [==============================] - 34s 32ms/step - loss: 0.1576 - accuracy: 0.9502 - val_loss: 0.0600 - val_accuracy: 0.9814\n",
      "Epoch 5/6\n",
      "1066/1066 [==============================] - 35s 32ms/step - loss: 0.1221 - accuracy: 0.9602 - val_loss: 0.0560 - val_accuracy: 0.9810\n",
      "Epoch 6/6\n",
      "1066/1066 [==============================] - 35s 32ms/step - loss: 0.1131 - accuracy: 0.9638 - val_loss: 0.0397 - val_accuracy: 0.9876\n"
     ]
    }
   ],
   "source": [
    "history = model.fit(X_train, y_train,\n",
    "              batch_size= 16,\n",
    "              epochs= 6,\n",
    "              validation_data= (X_test, y_test),\n",
    "              shuffle=True)"
   ]
  },
  {
   "cell_type": "code",
   "execution_count": 72,
   "id": "6326d62f",
   "metadata": {},
   "outputs": [
    {
     "data": {
      "image/png": "[encoded data removed]",
      "text/plain": [
       "<Figure size 432x288 with 1 Axes>"
      ]
     },
     "metadata": {
      "needs_background": "light"
     },
     "output_type": "display_data"
    },
    {
     "data": {
      "image/png": "[encoded data removed]",
      "text/plain": [
       "<Figure size 432x288 with 1 Axes>"
      ]
     },
     "metadata": {
      "needs_background": "light"
     },
     "output_type": "display_data"
    },
    {
     "name": "stdout",
     "output_type": "stream",
     "text": [
      "Test Score: 0.03966275230050087\n",
      "Test Accuracy: 0.9876126050949097\n"
     ]
    }
   ],
   "source": [
    "plt.figure(1)\n",
    "plt.plot(history.history['loss'])\n",
    "plt.plot(history.history['val_loss'])\n",
    "plt.legend(['training', 'validation'])\n",
    "plt.title('loss')\n",
    "plt.xlabel('epoch')\n",
    "\n",
    "plt.figure(2)\n",
    "plt.plot(history.history['accuracy'])\n",
    "plt.plot(history.history['val_accuracy'])\n",
    "plt.legend(['training', 'validation'])\n",
    "plt.title('Acurracy')\n",
    "plt.xlabel('epoch')\n",
    "plt.show()\n",
    "score = model.evaluate(X_test, y_test, verbose=0)\n",
    "print('Test Score:', score[0])\n",
    "print('Test Accuracy:', score[1])"
   ]
  },
  {
   "cell_type": "markdown",
   "id": "05c8c394",
   "metadata": {},
   "source": [
    "### Zapisanie modelu "
   ]
  },
  {
   "cell_type": "code",
   "execution_count": 73,
   "id": "56922e4d",
   "metadata": {},
   "outputs": [],
   "source": [
    "tf.keras.models.save_model(model, \"C:/Users/26609/Desktop/german_sign/CNN_model_main.hdf5\")"
   ]
  },
  {
   "cell_type": "code",
   "execution_count": null,
   "id": "4e32d90e",
   "metadata": {},
   "outputs": [],
   "source": []
  },
  {
   "cell_type": "markdown",
   "id": "fd1988a8",
   "metadata": {},
   "source": [
    "======================================================================================================================="
   ]
  },
  {
   "cell_type": "markdown",
   "id": "ffe58810",
   "metadata": {},
   "source": [
    "### ImageDataGenerator"
   ]
  },
  {
   "cell_type": "code",
   "execution_count": null,
   "id": "79a6ce97",
   "metadata": {},
   "outputs": [],
   "source": [
    "num_of_samples = []\n",
    "for idx, _ in labels.iterrows():\n",
    "    x_selected = X_train[np.where(y_train == idx)]\n",
    "    num_of_samples.append(len(x_selected))"
   ]
  },
  {
   "cell_type": "code",
   "execution_count": null,
   "id": "82106d3d",
   "metadata": {},
   "outputs": [],
   "source": [
    "MAX_NUM_OF_SAMPLES = max(num_of_samples)\n",
    "MAX_NUM_OF_SAMPLES"
   ]
  },
  {
   "cell_type": "code",
   "execution_count": null,
   "id": "3500abcc",
   "metadata": {},
   "outputs": [],
   "source": [
    "datagen = ImageDataGenerator(\n",
    "rotation_range=40,\n",
    "width_shift_range=0.2,\n",
    "height_shift_range=0.2,\n",
    "shear_range=0.2,\n",
    "zoom_range=0.2,\n",
    "horizontal_flip=True,\n",
    "fill_mode='nearest')"
   ]
  },
  {
   "cell_type": "code",
   "execution_count": null,
   "id": "9c8a4543",
   "metadata": {},
   "outputs": [],
   "source": [
    "test_images = []\n",
    "size_of_labels = []\n",
    "\n",
    "for i in range(0, len(class_list)):\n",
    "    pic_list = os.listdir(data_path  + f'/class_ ({i})') # 0, 1, 2, 3 ...\n",
    "    size_of_labels.append(len(pic_list))\n",
    "    for idx in pic_list:\n",
    "        cur_img = cv2.imread(data_path + f'/class_ ({i})' + \"/\" + idx)\n",
    "        test_images.append(cur_img)\n",
    "        break"
   ]
  },
  {
   "cell_type": "code",
   "execution_count": null,
   "id": "367408f0",
   "metadata": {},
   "outputs": [],
   "source": [
    "dir_path = r'C:\\Users\\26609\\Desktop\\german_sign\\Training'\n",
    "num_of_samples = []\n",
    "for idx, pic in enumerate(test_images):\n",
    "    img = img_to_array(pic)  # convert image to numpy arry\n",
    "    img = img.reshape((1,) + img.shape)  # reshape imag\n",
    "    for batch in datagen.flow(img, save_to_dir= dir_path + f'/class_ ({idx})', save_prefix='test_image', save_format='ppm'):  # this loops runs forever until we break, saving images to current directory with specified prefix\n",
    "        size_of_labels[idx] += 1\n",
    "        if size_of_labels[idx] >= MAX_NUM_OF_SAMPLES: \n",
    "            break"
   ]
  },
  {
   "cell_type": "markdown",
   "id": "c53eb9ff",
   "metadata": {},
   "source": [
    "#### Rozkład danych po wykonaniu"
   ]
  },
  {
   "attachments": {
    "obraz_2022-06-24_104245104.png": {
     "image/png": "[encoded data removed]"
    }
   },
   "cell_type": "markdown",
   "id": "e4761a7b",
   "metadata": {},
   "source": [
    "![obraz_2022-06-24_104245104.png](attachment:obraz_2022-06-24_104245104.png)"
   ]
  },
  {
   "cell_type": "code",
   "execution_count": null,
   "id": "6285357d",
   "metadata": {},
   "outputs": [],
   "source": []
  }
 ],
 "metadata": {
  "kernelspec": {
   "display_name": "Python 3 (ipykernel)",
   "language": "python",
   "name": "python3"
  },
  "language_info": {
   "codemirror_mode": {
    "name": "ipython",
    "version": 3
   },
   "file_extension": ".py",
   "mimetype": "text/x-python",
   "name": "python",
   "nbconvert_exporter": "python",
   "pygments_lexer": "ipython3",
   "version": "3.9.7"
  }
 },
 "nbformat": 4,
 "nbformat_minor": 5
}
